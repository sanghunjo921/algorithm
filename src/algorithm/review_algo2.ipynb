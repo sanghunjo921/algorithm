{
 "cells": [
  {
   "cell_type": "code",
   "execution_count": 5,
   "metadata": {},
   "outputs": [
    {
     "data": {
      "text/plain": [
       "[[-8, 2, 6], [-8, 3, 5], [-6, 1, 5]]"
      ]
     },
     "execution_count": 5,
     "metadata": {},
     "output_type": "execute_result"
    }
   ],
   "source": [
    "def threeSum(array, target):\n",
    "    array.sort();\n",
    "    res = []\n",
    "    \n",
    "    for i in range(len(array) - 2):\n",
    "        l = i + 1\n",
    "        r = len(array) - 1\n",
    "        while l < r:\n",
    "            sum = array[i] + array[l] + array[r]\n",
    "            if sum == target:\n",
    "                res.append([array[i], array[l], array[r]])\n",
    "                l += 1\n",
    "                r -= 1\n",
    "            elif sum < target:\n",
    "                l += 1\n",
    "            else:\n",
    "                r -= 1\n",
    "    return res\n",
    "\n",
    "threeSum([12, 3, 1, 2, -6, 5, -8, 6], 0)"
   ]
  }
 ],
 "metadata": {
  "interpreter": {
   "hash": "aee8b7b246df8f9039afb4144a1f6fd8d2ca17a180786b69acc140d282b71a49"
  },
  "kernelspec": {
   "display_name": "Python 3.10.8 64-bit",
   "name": "python3"
  },
  "language_info": {
   "codemirror_mode": {
    "name": "ipython",
    "version": 3
   },
   "file_extension": ".py",
   "mimetype": "text/x-python",
   "name": "python",
   "nbconvert_exporter": "python",
   "pygments_lexer": "ipython3",
   "version": "3.10.9"
  },
  "orig_nbformat": 4
 },
 "nbformat": 4,
 "nbformat_minor": 2
}
